{
 "cells": [
  {
   "cell_type": "code",
   "execution_count": 1,
   "metadata": {},
   "outputs": [],
   "source": [
    "import sys\n",
    "import os\n",
    "simulation_path = r\"C:\\Users\\Simon\\Google Drive\\PhD\\code\\simulations\\MD_stochastic_chain\\Classy_for_github\"\n",
    "\n",
    "sys.path.insert(0, simulation_path)\n",
    "\n",
    "from Simulation import Simulation\n",
    "import numpy as np\n",
    "import matplotlib.pyplot as plt\n",
    "\n",
    "tools_path = \"C:/Users/Simon/Google Drive/PhD/code/tools\"\n",
    "sys.path.insert(0, tools_path)\n",
    "from plotting_functions import ybin_in_x,y_and_x_bin_in_z"
   ]
  },
  {
   "cell_type": "markdown",
   "metadata": {},
   "source": [
    "# Running the simulation"
   ]
  },
  {
   "cell_type": "code",
   "execution_count": 10,
   "metadata": {},
   "outputs": [
    {
     "name": "stdout",
     "output_type": "stream",
     "text": [
      ">>>>>>>>>> Simulation N_3_k_10000k_theta500 <<<<\n",
      "starting simulation with parameters: \n",
      "max_save_size : 25\n",
      "time_step : 1.52587890625e-05\n",
      "run_time : 10.0\n",
      "steps : 655360\n",
      "write_interval : 6\n",
      "actual_nmb_of_datapoints : 109227\n",
      "nmb_of_datapoints : 100000\n",
      "and using the following model:\n",
      "traptype : linear\n",
      "Larc0 : 2\n",
      "k : 10000\n",
      "L0_trap : 2\n",
      "gamma : 1\n",
      "kT : 1\n",
      "amplitude : 0\n",
      "N : 3\n",
      "k_theta : 500\n",
      "tend : 10.0\n",
      "d0 : 1\n",
      "sigma_theta0 : 0\n",
      "model_name : harmonic_trapped_chain_elastic\n",
      "chain0type : straight_stretched\n",
      "tstart : 0\n",
      "production time: 101\n",
      "particle data 000for this simulation type saved\n",
      "theta data 000 for this simulation type saved\n",
      "trap data 000 for this simulation type saved\n",
      "no d data for this simulation type\n",
      "no sub chain particle data for this simulation type\n",
      "data saved\n",
      ">>>>>>>>>> Simulation N_3_k_10000k_theta2000 <<<<\n",
      "starting simulation with parameters: \n",
      "max_save_size : 25\n",
      "time_step : 3.814697265625e-06\n",
      "run_time : 10.0\n",
      "steps : 2621440\n",
      "write_interval : 26\n",
      "actual_nmb_of_datapoints : 100825\n",
      "nmb_of_datapoints : 100000\n",
      "and using the following model:\n",
      "traptype : linear\n",
      "Larc0 : 2\n",
      "k : 10000\n",
      "L0_trap : 2\n",
      "gamma : 1\n",
      "kT : 1\n",
      "amplitude : 0\n",
      "N : 3\n",
      "k_theta : 2000\n",
      "tend : 10.0\n",
      "d0 : 1\n",
      "sigma_theta0 : 0\n",
      "model_name : harmonic_trapped_chain_elastic\n",
      "chain0type : straight_stretched\n",
      "tstart : 0\n",
      "production time: 364\n",
      "particle data 000for this simulation type saved\n",
      "theta data 000 for this simulation type saved\n",
      "trap data 000 for this simulation type saved\n",
      "no d data for this simulation type\n",
      "no sub chain particle data for this simulation type\n",
      "data saved\n",
      ">>>>>>>>>> Simulation N_3_k_10000k_theta5000 <<<<\n",
      "starting simulation with parameters: \n",
      "max_save_size : 25\n",
      "time_step : 1.52587890625e-06\n",
      "run_time : 10.0\n",
      "steps : 6553600\n",
      "write_interval : 65\n",
      "actual_nmb_of_datapoints : 100825\n",
      "nmb_of_datapoints : 100000\n",
      "and using the following model:\n",
      "traptype : linear\n",
      "Larc0 : 2\n",
      "k : 10000\n",
      "L0_trap : 2\n",
      "gamma : 1\n",
      "kT : 1\n",
      "amplitude : 0\n",
      "N : 3\n",
      "k_theta : 5000\n",
      "tend : 10.0\n",
      "d0 : 1\n",
      "sigma_theta0 : 0\n",
      "model_name : harmonic_trapped_chain_elastic\n",
      "chain0type : straight_stretched\n",
      "tstart : 0\n",
      "production time: 901\n",
      "particle data 000for this simulation type saved\n",
      "theta data 000 for this simulation type saved\n",
      "trap data 000 for this simulation type saved\n",
      "no d data for this simulation type\n",
      "no sub chain particle data for this simulation type\n",
      "data saved\n"
     ]
    }
   ],
   "source": [
    "N=3\n",
    "\n",
    "for k_theta in [500,2000,5000]:\n",
    "    k=10000\n",
    "    k_theta =  k_theta\n",
    "    d0_exp = 2.744\n",
    "    u_min = 0#-1.5/d0_exp/factor\n",
    "    u_max = 0#2.5/d0_exp\n",
    "    tD = 60\n",
    "    trun = 600\n",
    "    factor = k_theta/500\n",
    "    trun_sim = trun/tD\n",
    "    k_trap = 0\n",
    "    sigma_theta0 = 0\n",
    "\n",
    "    input_chain = {\"N\": N, \"gamma\": 1, \"kT\": 1,\n",
    "                   \"chain0type\": \"straight_stretched\", \"Larc0\": N-1}\n",
    "\n",
    "    input_elastic = {\"k\": k, \"k_theta\": k_theta, \"d0\": 1, \"sigma_theta0\": sigma_theta0}\n",
    "\n",
    "    chain_elastic_input = {**input_chain, **input_elastic}\n",
    "\n",
    "    simulation_parameters = {\"time_step\": (1/2**16./factor),\n",
    "                             \"nmb_of_datapoints\": 100000,\n",
    "                             \"run_time\": trun_sim}\n",
    "\n",
    "    mobile_trap_parameters = {\"traptype\": \"linear\",\n",
    "                              \"tstart\": 0,\n",
    "                              \"tend\": trun_sim,\n",
    "                              \"amplitude\": u_max-u_min\n",
    "                              }\n",
    "\n",
    "    model_input = {\"chain_elastic_input\": chain_elastic_input,\n",
    "                   \"L0_trap\": N-1,\n",
    "                   \"k_trap\":k_trap,\n",
    "                   \"mobile_trap_parameters\": mobile_trap_parameters}\n",
    "\n",
    "\n",
    "    savepath = \"D:/PhD/Data/Simulations/Free_chain2/\"\n",
    "    sim_name = \"N_\"+str(N)+\"_k_\"+str(k)+\"k_theta\"+str(k_theta) \n",
    "    test_sim = Simulation(savepath, sim_name)\n",
    "\n",
    "    test_sim.set_parameters(**simulation_parameters)\n",
    "    test_sim.define_model(model_name=\"harmonic_trapped_chain_elastic\", model_input=model_input)\n",
    "    test_sim.run_simulation()\n",
    "    test_sim.analyse.calculate_observables(dst_based_on_deflection=True,safe=True)\n",
    "    #test_sim.visualise.movie(dpi=200)"
   ]
  },
  {
   "cell_type": "markdown",
   "metadata": {},
   "source": [
    "# analysis"
   ]
  },
  {
   "cell_type": "code",
   "execution_count": 2,
   "metadata": {
    "scrolled": true
   },
   "outputs": [
    {
     "ename": "NameError",
     "evalue": "name 'sim' is not defined",
     "output_type": "error",
     "traceback": [
      "\u001b[1;31m---------------------------------------------------------------------------\u001b[0m",
      "\u001b[1;31mNameError\u001b[0m                                 Traceback (most recent call last)",
      "\u001b[1;32m<ipython-input-2-44c24f9843f2>\u001b[0m in \u001b[0;36m<module>\u001b[1;34m()\u001b[0m\n\u001b[1;32m----> 1\u001b[1;33m \u001b[0mobs\u001b[0m\u001b[1;33m=\u001b[0m\u001b[0msim\u001b[0m\u001b[1;33m.\u001b[0m\u001b[0mdata\u001b[0m\u001b[1;33m.\u001b[0m\u001b[0mdf_observables\u001b[0m\u001b[1;33m\u001b[0m\u001b[0m\n\u001b[0m\u001b[0;32m      2\u001b[0m \u001b[0mobs_columns\u001b[0m\u001b[1;33m=\u001b[0m\u001b[0mobs\u001b[0m\u001b[1;33m.\u001b[0m\u001b[0mcolumns\u001b[0m\u001b[1;33m\u001b[0m\u001b[0m\n\u001b[0;32m      3\u001b[0m \u001b[0mdef_names\u001b[0m\u001b[1;33m=\u001b[0m\u001b[1;33m[\u001b[0m\u001b[0mi\u001b[0m \u001b[1;32mfor\u001b[0m \u001b[0mi\u001b[0m \u001b[1;32min\u001b[0m \u001b[0mobs_columns\u001b[0m \u001b[1;32mif\u001b[0m \u001b[0mi\u001b[0m\u001b[1;33m.\u001b[0m\u001b[0mstartswith\u001b[0m\u001b[1;33m(\u001b[0m\u001b[1;34m'def_'\u001b[0m\u001b[1;33m)\u001b[0m\u001b[1;33m]\u001b[0m\u001b[1;33m\u001b[0m\u001b[0m\n\u001b[0;32m      4\u001b[0m \u001b[0mdef_list\u001b[0m\u001b[1;33m=\u001b[0m\u001b[1;33m[\u001b[0m\u001b[1;33m]\u001b[0m\u001b[1;33m\u001b[0m\u001b[0m\n\u001b[0;32m      5\u001b[0m \u001b[1;32mfor\u001b[0m \u001b[0mdef_name\u001b[0m \u001b[1;32min\u001b[0m \u001b[0mdef_names\u001b[0m\u001b[1;33m:\u001b[0m\u001b[1;33m\u001b[0m\u001b[0m\n",
      "\u001b[1;31mNameError\u001b[0m: name 'sim' is not defined"
     ]
    }
   ],
   "source": [
    "obs=sim.data.df_observables\n",
    "obs_columns=obs.columns\n",
    "def_names=[i for i in obs_columns if i.startswith('def_')]\n",
    "def_list=[]\n",
    "for def_name in def_names:\n",
    "    def_list.append(sim.data.df_observables[def_name].values)"
   ]
  },
  {
   "cell_type": "code",
   "execution_count": 6,
   "metadata": {},
   "outputs": [],
   "source": [
    "from scipy.fftpack import dst, dct"
   ]
  },
  {
   "cell_type": "code",
   "execution_count": 84,
   "metadata": {
    "scrolled": true
   },
   "outputs": [
    {
     "data": {
      "text/plain": [
       "array([1.00926150e+00, 7.65287356e-02, 1.75899153e-02, 6.86937039e-03,\n",
       "       3.46792758e-03, 2.05753863e-03, 1.27378925e-03, 8.81812924e-04,\n",
       "       6.04471701e-04, 4.37603459e-04, 3.31347763e-04, 2.60857900e-04,\n",
       "       2.12321412e-04])"
      ]
     },
     "execution_count": 84,
     "metadata": {},
     "output_type": "execute_result"
    }
   ],
   "source": [
    "var_list"
   ]
  },
  {
   "cell_type": "code",
   "execution_count": 106,
   "metadata": {},
   "outputs": [
    {
     "data": {
      "text/plain": [
       "(1e-05, 10)"
      ]
     },
     "execution_count": 106,
     "metadata": {},
     "output_type": "execute_result"
    },
    {
     "data": {
      "image/png": "[encoded data removed]",
      "text/plain": [
       "<matplotlib.figure.Figure at 0x196c0b65128>"
      ]
     },
     "metadata": {},
     "output_type": "display_data"
    }
   ],
   "source": [
    "fig, [ax1,ax2] = plt.subplots(ncols=2,figsize=(15,7))\n",
    "ax1.scatter(mode_nmb,var_list,label=\"N \"+str(N)+\" ktheta \"+str(k_theta))\n",
    "ax1.set_yscale('log')\n",
    "ax1.set_xscale('log')\n",
    "ax1.set_ylim(10**-5,10**1)"
   ]
  },
  {
   "cell_type": "code",
   "execution_count": 7,
   "metadata": {},
   "outputs": [
    {
     "name": "stdout",
     "output_type": "stream",
     "text": [
      ">>>>>>>>>> Simulation N_15_k_10000k_theta500 <<<<\n",
      ">>>>>>>>>> Simulation N_15_k_10000k_theta2000 <<<<\n",
      ">>>>>>>>>> Simulation N_15_k_10000k_theta5000 <<<<\n"
     ]
    },
    {
     "data": {
      "text/plain": [
       "<matplotlib.legend.Legend at 0x2016e30c390>"
      ]
     },
     "execution_count": 7,
     "metadata": {},
     "output_type": "execute_result"
    },
    {
     "data": {
      "image/png": "[encoded data removed]",
      "text/plain": [
       "<matplotlib.figure.Figure at 0x2016e6ba080>"
      ]
     },
     "metadata": {},
     "output_type": "display_data"
    }
   ],
   "source": [
    "N=50\n",
    "\n",
    "fig, [ax1,ax2] = plt.subplots(ncols=2,figsize=(15,7))\n",
    "\n",
    "for N in [15]:\n",
    "    for k_theta in [500,2000,5000]:\n",
    "        k=10000\n",
    "        savepath = \"D:/PhD/Data/Simulations/Free_chain/\"\n",
    "        sim_name = \"N_\"+str(N)+\"_k_\"+str(k)+\"k_theta\"+str(k_theta) \n",
    "        sim = Simulation(savepath, sim_name)\n",
    "\n",
    "        sim.data.data_load(particle=False, theta=True, observables=True,trap=True)\n",
    "        d0_um = 2.987\n",
    "        var_list=mode_analysis_simulation(sim,d0_um=d0_um, kT_pNum=1, D_um2_per_s=0.138)\n",
    "        mode_nmb=np.array(range(1,len(var_list)+1))\n",
    "        ax1.scatter(mode_nmb,var_list*k_theta,label=\"N \"+str(N)+\" ktheta \"+str(k_theta))\n",
    "         \n",
    "        df_theta=sim.data.df_theta\n",
    "        df_observables=sim.data.df_observables\n",
    "        for i,angle_index in enumerate(df_theta[\"angle index\"].unique()):\n",
    "            theta_i=df_theta[df_theta[\"angle index\"]==angle_index][\"theta\"].values\n",
    "            df_observables[\"theta_\"+str(i)] = theta_i\n",
    "        sim.data.df_observables=df_observables\n",
    "        \n",
    "        var_theta = angle_analysis_simulation(sim)\n",
    "        ax2.plot(var_theta)\n",
    "        ax1.set_yscale('log')\n",
    "        ax1.set_xscale('log')\n",
    "ax2.set_ylim(0,0.003)\n",
    "ax1.legend()"
   ]
  },
  {
   "cell_type": "code",
   "execution_count": 18,
   "metadata": {
    "scrolled": true
   },
   "outputs": [
    {
     "name": "stdout",
     "output_type": "stream",
     "text": [
      "Index(['time', 'mean y', 'L', 'u', 'Fx_static', 'phi_global', 'def_0',\n",
      "       'dst_mode_0', 'def_1', 'dst_mode_1',\n",
      "       ...\n",
      "       'dct_mode_8', 'dct_mode_9', 'fx_stat', 'fy_stat', 'fx_mob', 'fy_mob',\n",
      "       'x_stat', 'y_stat', 'x_mob', 'y_mob'],\n",
      "      dtype='object', length=158)\n",
      "best fitting power: -3.45595035227512\n",
      "L is 125.19500000000001\n"
     ]
    },
    {
     "data": {
      "image/png": "[encoded data removed]",
      "text/plain": [
       "<matplotlib.figure.Figure at 0x1968174a240>"
      ]
     },
     "metadata": {},
     "output_type": "display_data"
    }
   ],
   "source": [
    "var_list=mode_analysis_simulation(sim)"
   ]
  },
  {
   "cell_type": "code",
   "execution_count": 5,
   "metadata": {},
   "outputs": [],
   "source": [
    "import re\n",
    "\n",
    "def atoi(text):\n",
    "    return int(text) if text.isdigit() else text\n",
    "\n",
    "def natural_keys(text):\n",
    "    '''\n",
    "    alist.sort(key=natural_keys) sorts in human order\n",
    "    http://nedbatchelder.com/blog/200712/human_sorting.html\n",
    "    (See Toothy's implementation in the comments)\n",
    "    '''\n",
    "    return [ atoi(c) for c in re.split(r'(\\d+)', text) ]\n",
    "\n",
    "def mode_analysis_simulation(sim,figure=False,display=False,d0_um=2.555, kT_pNum=0.00413021, D_um2_per_s=0.138):\n",
    "\n",
    "    \n",
    "    sim.analyse.dimensionalise_observables(d0_um=d0_um, kT_pNum=kT_pNum, D_um2_per_s=D_um2_per_s)\n",
    "    obs=sim.data.df_observables_dimensionalised\n",
    "    obs_columns=obs.columns\n",
    "\n",
    "\n",
    "    dst_names=[i for i in obs_columns if i.startswith('dst_')]\n",
    "    dst_names.sort(key=natural_keys)\n",
    "    dct_names=[i for i in obs_columns if i.startswith('dst_')]\n",
    "    var_list=[]\n",
    "    var_list2=[]\n",
    "    for dst_name,dct_name in zip(dst_names,dct_names):\n",
    "        dst=obs[dst_name].values\n",
    "        dst=dst[~np.isnan(dst)]\n",
    "        dst=np.append(dst,-dst)\n",
    "        var_list.append(np.var(dst))\n",
    "        #dct=obs[dct_name].values\n",
    "        #dct=dct[~np.isnan(dct)]\n",
    "        #dct=np.append(dct,-dct)\n",
    "        #var_list2.append(np.var(dct))\n",
    "    var_list=np.array(var_list)\n",
    "    #var_list2=np.array(var_list2)\n",
    "\n",
    "\n",
    "\n",
    "    a=1#np.pi\n",
    "    mode_nmb=np.array(range(1,len(dst_names)+1))\n",
    "    log_n=np.log(a*mode_nmb)\n",
    "    log_var = np.log(var_list)\n",
    "    [power, log_c] = np.polyfit(x=log_n, y=log_var, deg=1)\n",
    "    if display:\n",
    "        print(\"best fitting power: \"+str(power))\n",
    "    \n",
    "    #theory\n",
    "    d0=2.555\n",
    "    k_theta = 1048\n",
    "    N = len(dst_names)+2\n",
    "    L = (N-1)*d0\n",
    "    if display:\n",
    "        print(\"L is \"+str(L))\n",
    "    kT_pNum=0.00413021\n",
    "    Fc=k_theta*kT_pNum*d0*np.pi**2/L**2\n",
    "    c_theory = 2*kT_pNum*L/(np.pi**2*Fc)\n",
    "    \n",
    "    power_theory=-4.0\n",
    "    \n",
    "    if figure:\n",
    "        fig, ax = plt.subplots()\n",
    "        ax.scatter(a*mode_nmb,var_list,label=r\"\\sigma^2_n\")\n",
    "        ax.plot(a*mode_nmb,np.exp(log_c)*(a*mode_nmb)**power,label=r\"power law fit\")\n",
    "        ax.plot(mode_nmb,c_theory*mode_nmb**power_theory,label=r\"power law theory\")\n",
    "        ax.set_yscale('log')\n",
    "        ax.set_xscale('log')\n",
    "        ax.legend()\n",
    "        plt.show()\n",
    "\n",
    "\n",
    "\n",
    "    return(var_list)#,var_list2)\n",
    "    \n",
    "def angle_analysis_simulation(sim,d0_um=2.555, kT_pNum=0.00413021, D_um2_per_s=0.138):\n",
    "\n",
    "    \n",
    "    sim.analyse.dimensionalise_observables(d0_um=d0_um, kT_pNum=kT_pNum, D_um2_per_s=D_um2_per_s)\n",
    "    obs=sim.data.df_observables_dimensionalised\n",
    "\n",
    "    obs_columns=obs.columns\n",
    "\n",
    "    theta_names=[i for i in obs_columns if i.startswith('theta_')]\n",
    "    theta_names.sort(key=natural_keys)\n",
    "\n",
    "    var_list=[]\n",
    "    for theta_name in theta_names:    \n",
    "        theta=obs[theta_name].values\n",
    "        var_list.append(np.var(theta))\n",
    "    return(var_list)"
   ]
  },
  {
   "cell_type": "code",
   "execution_count": 70,
   "metadata": {
    "scrolled": false
   },
   "outputs": [],
   "source": [
    "df_theta=sim.data.df_theta\n",
    "df_observables=sim.data.df_observables\n",
    "for i,angle_index in enumerate(df_theta[\"angle index\"].unique()):\n",
    "    theta_i=df_theta[df_theta[\"angle index\"]==angle_index][\"theta\"].values\n",
    "    df_observables[\"theta_\"+str(i)] = theta_i"
   ]
  },
  {
   "cell_type": "code",
   "execution_count": 22,
   "metadata": {},
   "outputs": [
    {
     "name": "stdout",
     "output_type": "stream",
     "text": [
      "0.2064225974511734\n"
     ]
    }
   ],
   "source": [
    "d0=2.555\n",
    "k_theta = 1048\n",
    "kT_pNum=0.00413021\n",
    "N=10\n",
    "L = (N-1)*d0\n",
    "print(k_theta*kT_pNum*d0*np.pi**2/L**2)"
   ]
  },
  {
   "cell_type": "code",
   "execution_count": null,
   "metadata": {},
   "outputs": [],
   "source": []
  }
 ],
 "metadata": {
  "kernelspec": {
   "display_name": "Python 3",
   "language": "python",
   "name": "python3"
  },
  "language_info": {
   "codemirror_mode": {
    "name": "ipython",
    "version": 3
   },
   "file_extension": ".py",
   "mimetype": "text/x-python",
   "name": "python",
   "nbconvert_exporter": "python",
   "pygments_lexer": "ipython3",
   "version": "3.5.4"
  }
 },
 "nbformat": 4,
 "nbformat_minor": 2
}
